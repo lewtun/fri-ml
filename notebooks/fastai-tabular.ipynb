{
  "nbformat": 4,
  "nbformat_minor": 0,
  "metadata": {
    "colab": {
      "name": "fastai-tabular.ipynb",
      "version": "0.3.2",
      "provenance": [],
      "collapsed_sections": [],
      "include_colab_link": true
    },
    "kernelspec": {
      "name": "python3",
      "display_name": "Python 3"
    },
    "accelerator": "GPU"
  },
  "cells": [
    {
      "cell_type": "markdown",
      "metadata": {
        "id": "view-in-github",
        "colab_type": "text"
      },
      "source": [
        "<a href=\"https://colab.research.google.com/github/lewtun/fri-ml/blob/master/fastai-tabular.ipynb\" target=\"_parent\"><img src=\"https://colab.research.google.com/assets/colab-badge.svg\" alt=\"Open In Colab\"/></a>"
      ]
    },
    {
      "cell_type": "markdown",
      "metadata": {
        "id": "Qukd1owReLua",
        "colab_type": "text"
      },
      "source": [
        "# Applying fast.ai to Tabular Data\n",
        "\n",
        "_Summary:_ In this notebook we examine how fast.ai's [Tabular API](https://docs.fast.ai/tabular.html) can be used to train deep neural networks on tabular data. To keep things simple, we will look at Kaggle's [Titanic dataset](https://www.kaggle.com/c/titanic/overview) which is nowadays the \"hello world\" of classification tasks. \n",
        "\n",
        "_Sources:_\n",
        "\n",
        "* lesson 4 from the fast.ai MOOC\n",
        "* [An Introduction to Deep Learning for Tabular Data](https://www.fast.ai/2018/04/29/categorical-embeddings/)\n",
        "* [Entity Embeddings of Categorical Variables](https://arxiv.org/pdf/1604.06737.pdf)\n",
        "\n",
        "_Created by:_ Lewis Tunstall, Summer 2019"
      ]
    },
    {
      "cell_type": "markdown",
      "metadata": {
        "id": "RooWlpKTUZLr",
        "colab_type": "text"
      },
      "source": [
        "\n",
        "## Load libraries"
      ]
    },
    {
      "cell_type": "code",
      "metadata": {
        "id": "-V9vgHE_P67Y",
        "colab_type": "code",
        "outputId": "6622380f-21f9-4aba-a528-ff28ceb18a8b",
        "colab": {
          "base_uri": "https://localhost:8080/",
          "height": 52
        }
      },
      "source": [
        "# this step is necessary to setup fast.ai in Google collab\n",
        "!curl -s https://course.fast.ai/setup/colab | bash"
      ],
      "execution_count": 1,
      "outputs": [
        {
          "output_type": "stream",
          "text": [
            "Updating fastai...\n",
            "Done.\n"
          ],
          "name": "stdout"
        }
      ]
    },
    {
      "cell_type": "code",
      "metadata": {
        "id": "W4Ff2qodRPdR",
        "colab_type": "code",
        "outputId": "21d256af-b7ae-4a77-ac67-51710e02c064",
        "colab": {
          "base_uri": "https://localhost:8080/",
          "height": 34
        }
      },
      "source": [
        "from google.colab import drive\n",
        "\n",
        "# data viz\n",
        "import seaborn as sns\n",
        "\n",
        "# ml magic\n",
        "from sklearn.ensemble import RandomForestClassifier\n",
        "from sklearn.linear_model import LogisticRegression\n",
        "\n",
        "# fastai fun\n",
        "from fastai.tabular import *\n",
        "from fastai.callbacks import SaveModelCallback\n",
        "import fastai\n",
        "print(f'fast.ai version: {fastai.__version__}')"
      ],
      "execution_count": 2,
      "outputs": [
        {
          "output_type": "stream",
          "text": [
            "fast.ai version: 1.0.55\n"
          ],
          "name": "stdout"
        }
      ]
    },
    {
      "cell_type": "markdown",
      "metadata": {
        "id": "0cBiVmC6T6GI",
        "colab_type": "text"
      },
      "source": [
        "## Mount Google Drive\n",
        "In order to persist our datasets and avoid manually uploading them each session, the following snippet mounts your Google Drive directory to the Collab environment. \n",
        "\n",
        "**Note:** I store all my datasets on Google Drive in a `data/` directory. If you store them elsewhere, you should change the `base_dir` variable below accordingly."
      ]
    },
    {
      "cell_type": "code",
      "metadata": {
        "id": "zQEg8SIFP0Of",
        "colab_type": "code",
        "outputId": "08084e4d-de49-4ec7-f0a0-b797fde7725c",
        "colab": {
          "base_uri": "https://localhost:8080/",
          "height": 34
        }
      },
      "source": [
        "drive.mount('/content/gdrive', force_remount=True)\n",
        "root_dir = '/content/gdrive/My Drive/'\n",
        "# change data/ to the relevant location on your gDrive\n",
        "base_dir = root_dir + 'data/'"
      ],
      "execution_count": 3,
      "outputs": [
        {
          "output_type": "stream",
          "text": [
            "Mounted at /content/gdrive\n"
          ],
          "name": "stdout"
        }
      ]
    },
    {
      "cell_type": "markdown",
      "metadata": {
        "id": "k_Hre8cdkoG6",
        "colab_type": "text"
      },
      "source": [
        "Next we need to define the path for our `DataBunch` and `Learner` objects. First download the `train.csv` and `test.csv` files from [Kaggle](https://www.kaggle.com/c/titanic/data) and store them in a directory on your gDrive, e.g. `kaggle_titanic/`:"
      ]
    },
    {
      "cell_type": "code",
      "metadata": {
        "id": "AB5xMcrcUObr",
        "colab_type": "code",
        "colab": {}
      },
      "source": [
        "# change kaggle_titanic/ to the relevant path on your gDrive\n",
        "path = Path(base_dir + 'kaggle_titanic/')"
      ],
      "execution_count": 0,
      "outputs": []
    },
    {
      "cell_type": "markdown",
      "metadata": {
        "id": "NK3H9zPZK1Tf",
        "colab_type": "text"
      },
      "source": [
        "## Load and explore data\n",
        "Let's load the Titanic dataset and take a quick look at the data structure:"
      ]
    },
    {
      "cell_type": "code",
      "metadata": {
        "colab_type": "code",
        "outputId": "caf6db5d-d2a2-4025-a94b-54c6a740ae94",
        "id": "yt5U2BAPLxMb",
        "colab": {
          "base_uri": "https://localhost:8080/",
          "height": 197
        }
      },
      "source": [
        "train_df = pd.read_csv(path/'train.csv')\n",
        "test_df = pd.read_csv(path/'test.csv')\n",
        "\n",
        "# show first five rows\n",
        "train_df.head()"
      ],
      "execution_count": 5,
      "outputs": [
        {
          "output_type": "execute_result",
          "data": {
            "text/html": [
              "<div>\n",
              "<style scoped>\n",
              "    .dataframe tbody tr th:only-of-type {\n",
              "        vertical-align: middle;\n",
              "    }\n",
              "\n",
              "    .dataframe tbody tr th {\n",
              "        vertical-align: top;\n",
              "    }\n",
              "\n",
              "    .dataframe thead th {\n",
              "        text-align: right;\n",
              "    }\n",
              "</style>\n",
              "<table border=\"1\" class=\"dataframe\">\n",
              "  <thead>\n",
              "    <tr style=\"text-align: right;\">\n",
              "      <th></th>\n",
              "      <th>PassengerId</th>\n",
              "      <th>Survived</th>\n",
              "      <th>Pclass</th>\n",
              "      <th>Name</th>\n",
              "      <th>Sex</th>\n",
              "      <th>Age</th>\n",
              "      <th>SibSp</th>\n",
              "      <th>Parch</th>\n",
              "      <th>Ticket</th>\n",
              "      <th>Fare</th>\n",
              "      <th>Cabin</th>\n",
              "      <th>Embarked</th>\n",
              "    </tr>\n",
              "  </thead>\n",
              "  <tbody>\n",
              "    <tr>\n",
              "      <th>0</th>\n",
              "      <td>1</td>\n",
              "      <td>0</td>\n",
              "      <td>3</td>\n",
              "      <td>Braund, Mr. Owen Harris</td>\n",
              "      <td>male</td>\n",
              "      <td>22.0</td>\n",
              "      <td>1</td>\n",
              "      <td>0</td>\n",
              "      <td>A/5 21171</td>\n",
              "      <td>7.2500</td>\n",
              "      <td>NaN</td>\n",
              "      <td>S</td>\n",
              "    </tr>\n",
              "    <tr>\n",
              "      <th>1</th>\n",
              "      <td>2</td>\n",
              "      <td>1</td>\n",
              "      <td>1</td>\n",
              "      <td>Cumings, Mrs. John Bradley (Florence Briggs Th...</td>\n",
              "      <td>female</td>\n",
              "      <td>38.0</td>\n",
              "      <td>1</td>\n",
              "      <td>0</td>\n",
              "      <td>PC 17599</td>\n",
              "      <td>71.2833</td>\n",
              "      <td>C85</td>\n",
              "      <td>C</td>\n",
              "    </tr>\n",
              "    <tr>\n",
              "      <th>2</th>\n",
              "      <td>3</td>\n",
              "      <td>1</td>\n",
              "      <td>3</td>\n",
              "      <td>Heikkinen, Miss. Laina</td>\n",
              "      <td>female</td>\n",
              "      <td>26.0</td>\n",
              "      <td>0</td>\n",
              "      <td>0</td>\n",
              "      <td>STON/O2. 3101282</td>\n",
              "      <td>7.9250</td>\n",
              "      <td>NaN</td>\n",
              "      <td>S</td>\n",
              "    </tr>\n",
              "    <tr>\n",
              "      <th>3</th>\n",
              "      <td>4</td>\n",
              "      <td>1</td>\n",
              "      <td>1</td>\n",
              "      <td>Futrelle, Mrs. Jacques Heath (Lily May Peel)</td>\n",
              "      <td>female</td>\n",
              "      <td>35.0</td>\n",
              "      <td>1</td>\n",
              "      <td>0</td>\n",
              "      <td>113803</td>\n",
              "      <td>53.1000</td>\n",
              "      <td>C123</td>\n",
              "      <td>S</td>\n",
              "    </tr>\n",
              "    <tr>\n",
              "      <th>4</th>\n",
              "      <td>5</td>\n",
              "      <td>0</td>\n",
              "      <td>3</td>\n",
              "      <td>Allen, Mr. William Henry</td>\n",
              "      <td>male</td>\n",
              "      <td>35.0</td>\n",
              "      <td>0</td>\n",
              "      <td>0</td>\n",
              "      <td>373450</td>\n",
              "      <td>8.0500</td>\n",
              "      <td>NaN</td>\n",
              "      <td>S</td>\n",
              "    </tr>\n",
              "  </tbody>\n",
              "</table>\n",
              "</div>"
            ],
            "text/plain": [
              "   PassengerId  Survived  Pclass  ...     Fare Cabin  Embarked\n",
              "0            1         0       3  ...   7.2500   NaN         S\n",
              "1            2         1       1  ...  71.2833   C85         C\n",
              "2            3         1       3  ...   7.9250   NaN         S\n",
              "3            4         1       1  ...  53.1000  C123         S\n",
              "4            5         0       3  ...   8.0500   NaN         S\n",
              "\n",
              "[5 rows x 12 columns]"
            ]
          },
          "metadata": {
            "tags": []
          },
          "execution_count": 5
        }
      ]
    },
    {
      "cell_type": "code",
      "metadata": {
        "id": "gnZj0PMQTyV-",
        "colab_type": "code",
        "colab": {
          "base_uri": "https://localhost:8080/",
          "height": 34
        },
        "outputId": "ce6917a1-3438-4a14-f94f-9c77d53935f6"
      },
      "source": [
        "train_df.shape"
      ],
      "execution_count": 6,
      "outputs": [
        {
          "output_type": "execute_result",
          "data": {
            "text/plain": [
              "(891, 12)"
            ]
          },
          "metadata": {
            "tags": []
          },
          "execution_count": 6
        }
      ]
    },
    {
      "cell_type": "markdown",
      "metadata": {
        "id": "yzH7p7tGTzwu",
        "colab_type": "text"
      },
      "source": [
        "There are 12 attributes, so let's get a quick description of each one's type and number of non-null values:"
      ]
    },
    {
      "cell_type": "code",
      "metadata": {
        "id": "fcF66HGkMZ_t",
        "colab_type": "code",
        "colab": {
          "base_uri": "https://localhost:8080/",
          "height": 318
        },
        "outputId": "0ad257e3-3c92-4098-b8cd-56c1daee6991"
      },
      "source": [
        "train_df.info()"
      ],
      "execution_count": 7,
      "outputs": [
        {
          "output_type": "stream",
          "text": [
            "<class 'pandas.core.frame.DataFrame'>\n",
            "RangeIndex: 891 entries, 0 to 890\n",
            "Data columns (total 12 columns):\n",
            "PassengerId    891 non-null int64\n",
            "Survived       891 non-null int64\n",
            "Pclass         891 non-null int64\n",
            "Name           891 non-null object\n",
            "Sex            891 non-null object\n",
            "Age            714 non-null float64\n",
            "SibSp          891 non-null int64\n",
            "Parch          891 non-null int64\n",
            "Ticket         891 non-null object\n",
            "Fare           891 non-null float64\n",
            "Cabin          204 non-null object\n",
            "Embarked       889 non-null object\n",
            "dtypes: float64(2), int64(5), object(5)\n",
            "memory usage: 83.6+ KB\n"
          ],
          "name": "stdout"
        }
      ]
    },
    {
      "cell_type": "markdown",
      "metadata": {
        "id": "b6NORsZmT92U",
        "colab_type": "text"
      },
      "source": [
        "Evidently the `Age` and `Cabin` attributes are the ones with the most missing values; fortunately fast.ai can automatically impute them for us in the preprocessing step below.\n",
        "\n",
        "Finally let's have a lok at how the survival rates are distributed:"
      ]
    },
    {
      "cell_type": "code",
      "metadata": {
        "id": "OzycIiGgUbBm",
        "colab_type": "code",
        "colab": {
          "base_uri": "https://localhost:8080/",
          "height": 70
        },
        "outputId": "cd670761-f1a7-44a5-9ca2-18e05a15b36b"
      },
      "source": [
        "train_df['Survived'].value_counts(normalize=True)"
      ],
      "execution_count": 8,
      "outputs": [
        {
          "output_type": "execute_result",
          "data": {
            "text/plain": [
              "0    0.616162\n",
              "1    0.383838\n",
              "Name: Survived, dtype: float64"
            ]
          },
          "metadata": {
            "tags": []
          },
          "execution_count": 8
        }
      ]
    },
    {
      "cell_type": "markdown",
      "metadata": {
        "id": "p5dUvPIVUhm1",
        "colab_type": "text"
      },
      "source": [
        "Unsurprisingly for a real-world dataset we have a moderate amount of class imbalance, with the majority of passengers not surviving. "
      ]
    },
    {
      "cell_type": "markdown",
      "metadata": {
        "id": "q1ATOdQ6VU2U",
        "colab_type": "text"
      },
      "source": [
        "## Prepare the data\n",
        "As explained in the fast.ai [docs](https://docs.fast.ai/tabular.html#Preprocessing-tabular-data), the first thing we need to prepare our data as a `DataBunch` object. The general steps are as follows:\n",
        "\n",
        "1. Define the target variable\n",
        "2. Define the names of the categorical and continuous features\n",
        "3. Define the preprocessing `Transforms`, e.g. convert Pandas `object` data types to `category`, normalise continuous variables etc.\n",
        "\n",
        "Let's apply these steps to the case at hand:"
      ]
    },
    {
      "cell_type": "code",
      "metadata": {
        "id": "a6q2CF0_M6N4",
        "colab_type": "code",
        "colab": {}
      },
      "source": [
        "# define a pandas.Series object of test IDs for later use\n",
        "test_id = test_df['PassengerId']\n",
        "# TabularList complains if a feature has NaNs in the test set, but not in the \n",
        "# train set. \n",
        "test_df['Fare'].fillna(test_df['Fare'].median(), inplace=True)"
      ],
      "execution_count": 0,
      "outputs": []
    },
    {
      "cell_type": "code",
      "metadata": {
        "id": "-JAwvL2kMyuJ",
        "colab_type": "code",
        "colab": {
          "base_uri": "https://localhost:8080/",
          "height": 347
        },
        "outputId": "022146c3-22bf-42ae-ece2-76cb937aafc7"
      },
      "source": [
        "# name of the target variable\n",
        "dep_var = 'Survived'\n",
        "\n",
        "# names of categorical features\n",
        "cat_names = [ 'Sex', 'Ticket', 'Cabin', 'Embarked']\n",
        "\n",
        "# names of numerical features\n",
        "cont_names = [ 'Age', 'SibSp', 'Parch', 'Fare']\n",
        "\n",
        "# define transformations\n",
        "procs = [FillMissing, Categorify, Normalize]\n",
        "\n",
        "# create test tabularlist\n",
        "test = TabularList.from_df(test_df, cat_names=cat_names, cont_names=cont_names, procs=procs)\n",
        "\n",
        "# create train databunch\n",
        "data = (\n",
        "    TabularList.from_df(train_df, path=path, cat_names=cat_names, cont_names=cont_names, procs=procs)\n",
        "                        .split_by_rand_pct(0.1, seed=42)  # create train / validation split\n",
        "                        .label_from_df(cols = dep_var)    # define label of target\n",
        "                        .add_test(test, label=0)          # include test set\n",
        "                        .databunch()                      # convert to DataBunch\n",
        ")\n",
        "\n",
        "# view sample\n",
        "data.show_batch(rows=10)"
      ],
      "execution_count": 10,
      "outputs": [
        {
          "output_type": "display_data",
          "data": {
            "text/html": [
              "<table border=\"1\" class=\"dataframe\">\n",
              "  <thead>\n",
              "    <tr style=\"text-align: right;\">\n",
              "      <th>Sex</th>\n",
              "      <th>Ticket</th>\n",
              "      <th>Cabin</th>\n",
              "      <th>Embarked</th>\n",
              "      <th>Age_na</th>\n",
              "      <th>Age</th>\n",
              "      <th>SibSp</th>\n",
              "      <th>Parch</th>\n",
              "      <th>Fare</th>\n",
              "      <th>target</th>\n",
              "    </tr>\n",
              "  </thead>\n",
              "  <tbody>\n",
              "    <tr>\n",
              "      <td>female</td>\n",
              "      <td>315153</td>\n",
              "      <td>#na#</td>\n",
              "      <td>S</td>\n",
              "      <td>False</td>\n",
              "      <td>-1.9448</td>\n",
              "      <td>-0.4703</td>\n",
              "      <td>2.0164</td>\n",
              "      <td>-0.2003</td>\n",
              "      <td>1</td>\n",
              "    </tr>\n",
              "    <tr>\n",
              "      <td>male</td>\n",
              "      <td>SC/Paris 2123</td>\n",
              "      <td>#na#</td>\n",
              "      <td>C</td>\n",
              "      <td>False</td>\n",
              "      <td>-0.3366</td>\n",
              "      <td>0.4151</td>\n",
              "      <td>2.0164</td>\n",
              "      <td>0.1888</td>\n",
              "      <td>0</td>\n",
              "    </tr>\n",
              "    <tr>\n",
              "      <td>male</td>\n",
              "      <td>349210</td>\n",
              "      <td>#na#</td>\n",
              "      <td>S</td>\n",
              "      <td>False</td>\n",
              "      <td>0.5058</td>\n",
              "      <td>-0.4703</td>\n",
              "      <td>-0.4658</td>\n",
              "      <td>-0.4895</td>\n",
              "      <td>0</td>\n",
              "    </tr>\n",
              "    <tr>\n",
              "      <td>male</td>\n",
              "      <td>315089</td>\n",
              "      <td>#na#</td>\n",
              "      <td>S</td>\n",
              "      <td>False</td>\n",
              "      <td>0.6590</td>\n",
              "      <td>-0.4703</td>\n",
              "      <td>-0.4658</td>\n",
              "      <td>-0.4662</td>\n",
              "      <td>0</td>\n",
              "    </tr>\n",
              "    <tr>\n",
              "      <td>male</td>\n",
              "      <td>237798</td>\n",
              "      <td>#na#</td>\n",
              "      <td>S</td>\n",
              "      <td>False</td>\n",
              "      <td>0.9653</td>\n",
              "      <td>-0.4703</td>\n",
              "      <td>-0.4658</td>\n",
              "      <td>-0.3799</td>\n",
              "      <td>1</td>\n",
              "    </tr>\n",
              "    <tr>\n",
              "      <td>male</td>\n",
              "      <td>349912</td>\n",
              "      <td>#na#</td>\n",
              "      <td>S</td>\n",
              "      <td>False</td>\n",
              "      <td>-0.8726</td>\n",
              "      <td>-0.4703</td>\n",
              "      <td>-0.4658</td>\n",
              "      <td>-0.4839</td>\n",
              "      <td>0</td>\n",
              "    </tr>\n",
              "    <tr>\n",
              "      <td>male</td>\n",
              "      <td>349247</td>\n",
              "      <td>#na#</td>\n",
              "      <td>S</td>\n",
              "      <td>False</td>\n",
              "      <td>0.5058</td>\n",
              "      <td>-0.4703</td>\n",
              "      <td>-0.4658</td>\n",
              "      <td>-0.4815</td>\n",
              "      <td>0</td>\n",
              "    </tr>\n",
              "    <tr>\n",
              "      <td>male</td>\n",
              "      <td>363291</td>\n",
              "      <td>#na#</td>\n",
              "      <td>S</td>\n",
              "      <td>False</td>\n",
              "      <td>-1.5619</td>\n",
              "      <td>-0.4703</td>\n",
              "      <td>2.0164</td>\n",
              "      <td>-0.2302</td>\n",
              "      <td>1</td>\n",
              "    </tr>\n",
              "    <tr>\n",
              "      <td>male</td>\n",
              "      <td>16988</td>\n",
              "      <td>D45</td>\n",
              "      <td>S</td>\n",
              "      <td>True</td>\n",
              "      <td>-0.1068</td>\n",
              "      <td>-0.4703</td>\n",
              "      <td>-0.4658</td>\n",
              "      <td>-0.0416</td>\n",
              "      <td>1</td>\n",
              "    </tr>\n",
              "    <tr>\n",
              "      <td>male</td>\n",
              "      <td>315097</td>\n",
              "      <td>#na#</td>\n",
              "      <td>S</td>\n",
              "      <td>False</td>\n",
              "      <td>-0.6429</td>\n",
              "      <td>-0.4703</td>\n",
              "      <td>-0.4658</td>\n",
              "      <td>-0.4662</td>\n",
              "      <td>0</td>\n",
              "    </tr>\n",
              "  </tbody>\n",
              "</table>"
            ],
            "text/plain": [
              "<IPython.core.display.HTML object>"
            ]
          },
          "metadata": {
            "tags": []
          }
        }
      ]
    },
    {
      "cell_type": "markdown",
      "metadata": {
        "id": "G0XWQRwMVXkX",
        "colab_type": "text"
      },
      "source": [
        "Now that we have our data ready in a `DataBunch`, let's look at training some models."
      ]
    },
    {
      "cell_type": "markdown",
      "metadata": {
        "id": "k-evLtznXQmF",
        "colab_type": "text"
      },
      "source": [
        "## Train baseline models\n",
        "Here we don't do anything fancy since the goal is to train a few quick and dirty models that can be used to benchmark the performance of our fast.ai classifier. Since we are dealing with a binary class problem, I've selected two simple classifiers:\n",
        "\n",
        "* Random Forest\n",
        "* Logistic regression\n",
        "\n",
        "Random forests are great because the model architecture reduces overfitting, while logistic regression is a good choice to evaluate whether the dataset is linearly separable or not.\n",
        "\n",
        "As shown [here](https://gist.github.com/dienhoa/a5adf923bd8b24b3d0eadcd61aec8c2e), one neat aspect of the fast.ai `Dataset` objects is that they can be used to create training and validation sets for other algorithms. The trick is to reconstruct the feature matrix $X$ and target vector $y$ in a form amenable for scikit-learn, i.e. as numpy arrays. The function below achieves this for us:"
      ]
    },
    {
      "cell_type": "code",
      "metadata": {
        "id": "XYlq1YV8Xcyz",
        "colab_type": "code",
        "colab": {}
      },
      "source": [
        "def get_arrays(ds):\n",
        "    X_cats, X_conts = ds.x.codes, ds.x.conts\n",
        "    y = ds.y.items\n",
        "    return np.concatenate((X_cats, X_conts), axis=1), y"
      ],
      "execution_count": 0,
      "outputs": []
    },
    {
      "cell_type": "code",
      "metadata": {
        "id": "jgg_RgfRXiWS",
        "colab_type": "code",
        "colab": {
          "base_uri": "https://localhost:8080/",
          "height": 34
        },
        "outputId": "fd3c40c7-2030-4c0e-b44e-d4e547edc981"
      },
      "source": [
        "X_train, y_train = get_arrays(data.train_ds)\n",
        "X_val, y_val = get_arrays(data.valid_ds)\n",
        "\n",
        "X_train.shape, X_val.shape"
      ],
      "execution_count": 12,
      "outputs": [
        {
          "output_type": "execute_result",
          "data": {
            "text/plain": [
              "((802, 9), (89, 9))"
            ]
          },
          "metadata": {
            "tags": []
          },
          "execution_count": 12
        }
      ]
    },
    {
      "cell_type": "code",
      "metadata": {
        "id": "PcL_rvV-jjqL",
        "colab_type": "code",
        "colab": {}
      },
      "source": [
        "def fit_classifiers(classifiers, X_train, X_val, y_train, y_val):\n",
        "    '''\n",
        "    A utility function to calculate the accuracy of classifiers on the training set.\n",
        "    '''\n",
        "\n",
        "    for clf in classifiers:\n",
        "        clf.fit(X_train, y_train)\n",
        "        print(f'{clf.__class__.__name__}: {clf.score(X_val, y_val):.4f}')"
      ],
      "execution_count": 0,
      "outputs": []
    },
    {
      "cell_type": "code",
      "metadata": {
        "id": "PWZFtZwHbE0w",
        "colab_type": "code",
        "colab": {
          "base_uri": "https://localhost:8080/",
          "height": 52
        },
        "outputId": "16e8c3a0-83dc-4a61-ccdb-7bae43765299"
      },
      "source": [
        "# initialise classifiers\n",
        "rf_clf = RandomForestClassifier(n_estimators=100, n_jobs=-1, random_state=42)\n",
        "log_clf = LogisticRegression(solver='liblinear')\n",
        "\n",
        "# concatenate and train\n",
        "clf_list = [rf_clf, log_clf]\n",
        "fit_classifiers(clf_list, X_train, X_val, y_train, y_val)"
      ],
      "execution_count": 14,
      "outputs": [
        {
          "output_type": "stream",
          "text": [
            "RandomForestClassifier: 0.8202\n",
            "LogisticRegression: 0.8315\n"
          ],
          "name": "stdout"
        }
      ]
    },
    {
      "cell_type": "markdown",
      "metadata": {
        "id": "b2ibpzyVlHmx",
        "colab_type": "text"
      },
      "source": [
        "In practice, one would use some form of cross-validation and metrics like the ROC AUC, but for our purposes the above analysis is sufficient for now. Next, let's see if we can beat these baseline models with a DNN!"
      ]
    },
    {
      "cell_type": "markdown",
      "metadata": {
        "id": "evvF04dglhC0",
        "colab_type": "text"
      },
      "source": [
        "## Train a DNN model\n",
        "As in other core applications of the fast.ai library, the general procedure to train a deep learning model is as follows:\n",
        "\n",
        "1. Define a `Learner` object. In our case we can make use of the factory method `tabular_learner`.\n",
        "2. Find the optimal learning rate using the learning rate finder.\n",
        "3. Fit the model and evaluate the results.\n",
        "\n",
        "One special aspect of `tabular_learner` is that we need to specify the number of hidden layers and their neurons in the `layers` argument. There are several \"rules of thumb\" that are discussed when choosing these parameters in a feed forward network (see e.g. [here](https://stats.stackexchange.com/questions/181/how-to-choose-the-number-of-hidden-layers-and-nodes-in-a-feedforward-neural-netw)), with the general advice:\n",
        "\n",
        "* One hidden layer is sufficient for the large majority of problems. (Although this arguably applies more to MLP models)\n",
        "* Take the number of neurons to be the size of the input layer and increase until overfitting.\n",
        "\n",
        "A quick way to figure out the size of the input and output layers is to create a dummy `Learner` with an empty array in the `layer` argument (I got this idea from the fast.ai [forums](https://forums.fast.ai/t/how-to-define-the-good-neurals-and-layers-using-tabular/44583)):"
      ]
    },
    {
      "cell_type": "code",
      "metadata": {
        "id": "zkRVMUWhYo7q",
        "colab_type": "code",
        "colab": {
          "base_uri": "https://localhost:8080/",
          "height": 265
        },
        "outputId": "b3d24be4-c1fd-455c-b3a2-51648e1ea72c"
      },
      "source": [
        "learn_dummy = tabular_learner(data, layers = list())\n",
        "learn_dummy.model"
      ],
      "execution_count": 15,
      "outputs": [
        {
          "output_type": "execute_result",
          "data": {
            "text/plain": [
              "TabularModel(\n",
              "  (embeds): ModuleList(\n",
              "    (0): Embedding(3, 3)\n",
              "    (1): Embedding(625, 59)\n",
              "    (2): Embedding(133, 25)\n",
              "    (3): Embedding(4, 3)\n",
              "    (4): Embedding(3, 3)\n",
              "  )\n",
              "  (emb_drop): Dropout(p=0.0)\n",
              "  (bn_cont): BatchNorm1d(4, eps=1e-05, momentum=0.1, affine=True, track_running_stats=True)\n",
              "  (layers): Sequential(\n",
              "    (0): Linear(in_features=97, out_features=2, bias=True)\n",
              "  )\n",
              ")"
            ]
          },
          "metadata": {
            "tags": []
          },
          "execution_count": 15
        }
      ]
    },
    {
      "cell_type": "markdown",
      "metadata": {
        "id": "uVJEV_TjY0fA",
        "colab_type": "text"
      },
      "source": [
        "By inspecting the linear layer we see that we have 97 input features and 2 output features, which makes sense since we only have two classes to consider. (For regression the number of output features is 1.). I began by defining `layers = [100, 50]` and experimented with different sizes that gave the best accuracy on the validation set. (A more systematic approach would be grid search + cross validation.)\n",
        "\n",
        "**Note:** It appears that the rule of thumb to determine the optimal learning rate is less robust in tabular applications vs vision. I had to adopt a learning rate about 2 orders of magnitude less than the one suggested by the finder!"
      ]
    },
    {
      "cell_type": "code",
      "metadata": {
        "id": "UlMOdaBwNHDU",
        "colab_type": "code",
        "colab": {
          "base_uri": "https://localhost:8080/",
          "height": 335
        },
        "outputId": "e82e75c7-d684-41e8-ad00-7b6f4ec6169a"
      },
      "source": [
        "# create deep learning model\n",
        "learn = tabular_learner(data, layers = [400, 2], emb_drop=0.04, ps=[0.001, 0.01], metrics=accuracy, callback_fns=ShowGraph)\n",
        "\n",
        "# select the appropriate learning rate\n",
        "learn.lr_find()\n",
        "\n",
        "# look for point where the slope is steepest\n",
        "learn.recorder.plot(suggestion=True)"
      ],
      "execution_count": 16,
      "outputs": [
        {
          "output_type": "display_data",
          "data": {
            "text/html": [
              ""
            ],
            "text/plain": [
              "<IPython.core.display.HTML object>"
            ]
          },
          "metadata": {
            "tags": []
          }
        },
        {
          "output_type": "stream",
          "text": [
            "LR Finder is complete, type {learner_name}.recorder.plot() to see the graph.\n",
            "Min numerical gradient: 8.32E-02\n",
            "Min loss divided by 10: 3.31E-01\n"
          ],
          "name": "stdout"
        },
        {
          "output_type": "display_data",
          "data": {
            "image/png": "[encoded data removed]",
            "text/plain": [
              "<Figure size 432x288 with 1 Axes>"
            ]
          },
          "metadata": {
            "tags": []
          }
        }
      ]
    },
    {
      "cell_type": "code",
      "metadata": {
        "id": "RA_7X6GncXI4",
        "colab_type": "code",
        "colab": {
          "base_uri": "https://localhost:8080/",
          "height": 918
        },
        "outputId": "bf3f2529-a3b8-4659-c6de-1e4890491e26"
      },
      "source": [
        "# fit the model and save best one during training\n",
        "learn.fit_one_cycle(10, max_lr=slice(4e-3), callbacks=[SaveModelCallback(learn, every='improvement', mode='max', monitor='accuracy')])\n",
        "\n",
        "# analyse the model\n",
        "learn.recorder.plot_losses()"
      ],
      "execution_count": 17,
      "outputs": [
        {
          "output_type": "display_data",
          "data": {
            "text/html": [
              "<table border=\"1\" class=\"dataframe\">\n",
              "  <thead>\n",
              "    <tr style=\"text-align: left;\">\n",
              "      <th>epoch</th>\n",
              "      <th>train_loss</th>\n",
              "      <th>valid_loss</th>\n",
              "      <th>accuracy</th>\n",
              "      <th>time</th>\n",
              "    </tr>\n",
              "  </thead>\n",
              "  <tbody>\n",
              "    <tr>\n",
              "      <td>0</td>\n",
              "      <td>0.680636</td>\n",
              "      <td>0.700839</td>\n",
              "      <td>0.595506</td>\n",
              "      <td>00:00</td>\n",
              "    </tr>\n",
              "    <tr>\n",
              "      <td>1</td>\n",
              "      <td>0.668026</td>\n",
              "      <td>0.685758</td>\n",
              "      <td>0.595506</td>\n",
              "      <td>00:00</td>\n",
              "    </tr>\n",
              "    <tr>\n",
              "      <td>2</td>\n",
              "      <td>0.644857</td>\n",
              "      <td>0.658835</td>\n",
              "      <td>0.595506</td>\n",
              "      <td>00:00</td>\n",
              "    </tr>\n",
              "    <tr>\n",
              "      <td>3</td>\n",
              "      <td>0.613138</td>\n",
              "      <td>0.605614</td>\n",
              "      <td>0.595506</td>\n",
              "      <td>00:00</td>\n",
              "    </tr>\n",
              "    <tr>\n",
              "      <td>4</td>\n",
              "      <td>0.570812</td>\n",
              "      <td>0.541694</td>\n",
              "      <td>0.786517</td>\n",
              "      <td>00:00</td>\n",
              "    </tr>\n",
              "    <tr>\n",
              "      <td>5</td>\n",
              "      <td>0.525864</td>\n",
              "      <td>0.505311</td>\n",
              "      <td>0.842697</td>\n",
              "      <td>00:00</td>\n",
              "    </tr>\n",
              "    <tr>\n",
              "      <td>6</td>\n",
              "      <td>0.482909</td>\n",
              "      <td>0.487568</td>\n",
              "      <td>0.831461</td>\n",
              "      <td>00:00</td>\n",
              "    </tr>\n",
              "    <tr>\n",
              "      <td>7</td>\n",
              "      <td>0.445432</td>\n",
              "      <td>0.476542</td>\n",
              "      <td>0.842697</td>\n",
              "      <td>00:00</td>\n",
              "    </tr>\n",
              "    <tr>\n",
              "      <td>8</td>\n",
              "      <td>0.415776</td>\n",
              "      <td>0.471440</td>\n",
              "      <td>0.842697</td>\n",
              "      <td>00:00</td>\n",
              "    </tr>\n",
              "    <tr>\n",
              "      <td>9</td>\n",
              "      <td>0.392817</td>\n",
              "      <td>0.471157</td>\n",
              "      <td>0.842697</td>\n",
              "      <td>00:00</td>\n",
              "    </tr>\n",
              "  </tbody>\n",
              "</table>"
            ],
            "text/plain": [
              "<IPython.core.display.HTML object>"
            ]
          },
          "metadata": {
            "tags": []
          }
        },
        {
          "output_type": "display_data",
          "data": {
            "image/png": "[encoded data removed]",
            "text/plain": [
              "<Figure size 432x288 with 1 Axes>"
            ]
          },
          "metadata": {
            "tags": []
          }
        },
        {
          "output_type": "stream",
          "text": [
            "Better model found at epoch 0 with accuracy value: 0.5955055952072144.\n",
            "Better model found at epoch 4 with accuracy value: 0.7865168452262878.\n",
            "Better model found at epoch 5 with accuracy value: 0.8426966071128845.\n"
          ],
          "name": "stdout"
        },
        {
          "output_type": "display_data",
          "data": {
            "image/png": "[encoded data removed]",
            "text/plain": [
              "<Figure size 432x288 with 1 Axes>"
            ]
          },
          "metadata": {
            "tags": []
          }
        }
      ]
    },
    {
      "cell_type": "markdown",
      "metadata": {
        "id": "rtLDGrbGiPmb",
        "colab_type": "text"
      },
      "source": [
        "Evidentyl we have gained a boost of a few percent in accuracy compared to our baseline models. With more fine-tuning and other techniques like feature engineering and cross validation, higher scores should be possible."
      ]
    },
    {
      "cell_type": "markdown",
      "metadata": {
        "id": "XuI7nao8MmfE",
        "colab_type": "text"
      },
      "source": [
        "## Generate predictions and Kaggle submission\n",
        "Once we have a trained model, the final step is to generate predictions on the test set and submit to Kaggle! "
      ]
    },
    {
      "cell_type": "code",
      "metadata": {
        "id": "rO2biA4AnX3G",
        "colab_type": "code",
        "colab": {}
      },
      "source": [
        "# get the model with highest accuracy\n",
        "learn.load('bestmodel');"
      ],
      "execution_count": 0,
      "outputs": []
    },
    {
      "cell_type": "code",
      "metadata": {
        "id": "tET2aKffNuQt",
        "colab_type": "code",
        "colab": {
          "base_uri": "https://localhost:8080/",
          "height": 197
        },
        "outputId": "70dc3740-6603-48e0-ba8f-e558950c92b0"
      },
      "source": [
        "# predict our target value\n",
        "preds, *_ = learn.get_preds(DatasetType.Test)\n",
        "labels = np.argmax(preds, 1)\n",
        "\n",
        "# create submission file to submit to Kaggle\n",
        "submission = pd.DataFrame({'PassengerId': test_id, 'Survived': labels})\n",
        "submission.to_csv(path/'submission.csv', index=False)\n",
        "submission.head()\n"
      ],
      "execution_count": 19,
      "outputs": [
        {
          "output_type": "execute_result",
          "data": {
            "text/html": [
              "<div>\n",
              "<style scoped>\n",
              "    .dataframe tbody tr th:only-of-type {\n",
              "        vertical-align: middle;\n",
              "    }\n",
              "\n",
              "    .dataframe tbody tr th {\n",
              "        vertical-align: top;\n",
              "    }\n",
              "\n",
              "    .dataframe thead th {\n",
              "        text-align: right;\n",
              "    }\n",
              "</style>\n",
              "<table border=\"1\" class=\"dataframe\">\n",
              "  <thead>\n",
              "    <tr style=\"text-align: right;\">\n",
              "      <th></th>\n",
              "      <th>PassengerId</th>\n",
              "      <th>Survived</th>\n",
              "    </tr>\n",
              "  </thead>\n",
              "  <tbody>\n",
              "    <tr>\n",
              "      <th>0</th>\n",
              "      <td>892</td>\n",
              "      <td>0</td>\n",
              "    </tr>\n",
              "    <tr>\n",
              "      <th>1</th>\n",
              "      <td>893</td>\n",
              "      <td>1</td>\n",
              "    </tr>\n",
              "    <tr>\n",
              "      <th>2</th>\n",
              "      <td>894</td>\n",
              "      <td>0</td>\n",
              "    </tr>\n",
              "    <tr>\n",
              "      <th>3</th>\n",
              "      <td>895</td>\n",
              "      <td>0</td>\n",
              "    </tr>\n",
              "    <tr>\n",
              "      <th>4</th>\n",
              "      <td>896</td>\n",
              "      <td>1</td>\n",
              "    </tr>\n",
              "  </tbody>\n",
              "</table>\n",
              "</div>"
            ],
            "text/plain": [
              "   PassengerId  Survived\n",
              "0          892         0\n",
              "1          893         1\n",
              "2          894         0\n",
              "3          895         0\n",
              "4          896         1"
            ]
          },
          "metadata": {
            "tags": []
          },
          "execution_count": 19
        }
      ]
    },
    {
      "cell_type": "code",
      "metadata": {
        "id": "u_7DwEKyW0s5",
        "colab_type": "code",
        "colab": {}
      },
      "source": [
        ""
      ],
      "execution_count": 0,
      "outputs": []
    }
  ]
}